{
 "cells": [
  {
   "cell_type": "markdown",
   "metadata": {},
   "source": [
    "# Graph Classification"
   ]
  },
  {
   "cell_type": "markdown",
   "metadata": {},
   "source": [
    "AutoGL supports multiple graph related tasks, including graph classification.\n",
    "\n",
    "In this file we will give you a simple example to show how to use AutoGL to do the graph classification task."
   ]
  },
  {
   "cell_type": "markdown",
   "metadata": {},
   "source": [
    "## Import libraries"
   ]
  },
  {
   "cell_type": "markdown",
   "metadata": {},
   "source": [
    "First, you should import some libraries and you can set the random seed before you split the dataset and train the model."
   ]
  },
  {
   "cell_type": "code",
   "execution_count": null,
   "metadata": {},
   "outputs": [],
   "source": [
    "import random\n",
    "import torch\n",
    "import numpy as np\n",
    "import sys, os\n",
    "sys.path.insert(0, '../../')\n",
    "from autogl.datasets import build_dataset_from_name, utils\n",
    "from autogl.solver import AutoGraphClassifier\n",
    "from autogl.module import Acc\n",
    "from argparse import ArgumentParser, ArgumentDefaultsHelpFormatter\n",
    "from autogl.backend import DependentBackend\n",
    "if DependentBackend.is_pyg():\n",
    "    from autogl.datasets.utils.conversion import to_pyg_dataset as convert_dataset\n",
    "else:\n",
    "    from autogl.datasets.utils.conversion import to_dgl_dataset as convert_dataset\n",
    "\n",
    "backend = DependentBackend.get_backend_name()"
   ]
  },
  {
   "cell_type": "markdown",
   "metadata": {},
   "source": [
    "## Config"
   ]
  },
  {
   "cell_type": "code",
   "execution_count": null,
   "metadata": {},
   "outputs": [],
   "source": [
    "from argparse import Namespace\n",
    "args_dict = {'dataset': 'mutag', 'configs': '../../configs/graphclf_gin_benchmark.yml', 'device': 5, 'seed': 0}\n",
    "args = Namespace(**args_dict)\n",
    "\n",
    "if args.device == -1:\n",
    "    args.device = \"cpu\"\n",
    "\n",
    "if torch.cuda.is_available() and args.device != \"cpu\":\n",
    "    torch.cuda.set_device(args.device)\n",
    "seed = args.seed\n",
    "# set random seed\n",
    "random.seed(seed)\n",
    "np.random.seed(seed)\n",
    "torch.manual_seed(seed)\n",
    "if torch.cuda.is_available():\n",
    "    torch.cuda.manual_seed(seed)\n",
    "    torch.backends.cudnn.deterministic = True\n",
    "    torch.backends.cudnn.benchmark = False"
   ]
  },
  {
   "cell_type": "markdown",
   "metadata": {},
   "source": [
    "## Load Dataset"
   ]
  },
  {
   "cell_type": "markdown",
   "metadata": {},
   "source": [
    "AutoGL provides a very convenient interface to obtain and partition common datasets, such as mutag, imdb, and ptc_mr, etc.\n",
    "\n",
    "You just need to give the name of the dataset you want and AutoGL will return the dataset.\n",
    "\n",
    "In this example, we evaluate model on mutag dataset in the graph classification task."
   ]
  },
  {
   "cell_type": "code",
   "execution_count": null,
   "metadata": {},
   "outputs": [],
   "source": [
    "dataset = build_dataset_from_name(args.dataset)\n",
    "_converted_dataset = convert_dataset(dataset)\n",
    "if args.dataset.startswith(\"imdb\"):\n",
    "    from autogl.module.feature import OneHotDegreeGenerator\n",
    "\n",
    "    if DependentBackend.is_pyg():\n",
    "        from torch_geometric.utils import degree\n",
    "        max_degree = 0\n",
    "        for data in _converted_dataset:\n",
    "            deg_max = int(degree(data.edge_index[0], data.num_nodes).max().item())\n",
    "            max_degree = max(max_degree, deg_max)\n",
    "    else:\n",
    "        max_degree = 0\n",
    "        for data, _ in _converted_dataset:\n",
    "            deg_max = data.in_degrees().max().item()\n",
    "            max_degree = max(max_degree, deg_max)\n",
    "    dataset = OneHotDegreeGenerator(max_degree).fit_transform(dataset, inplace=False)\n",
    "elif args.dataset == \"collab\":\n",
    "    from autogl.module.feature._auto_feature import OnlyConstFeature\n",
    "\n",
    "    dataset = OnlyConstFeature().fit_transform(dataset, inplace=False)\n",
    "utils.graph_random_splits(dataset, train_ratio=0.8, val_ratio=0.1, seed=args.seed)"
   ]
  },
  {
   "cell_type": "markdown",
   "metadata": {},
   "source": [
    "## Initialize Solver"
   ]
  },
  {
   "cell_type": "markdown",
   "metadata": {},
   "source": [
    "After obtaining the dataset, we need to initialize the model.\n",
    "\n",
    "However, as AutoGL provides a convenient method to use HPO to better optimize the model, we can train the model through the solver class provided by AutoGL.\n",
    "\n",
    "Solver in AutoGL usually uses a config file for lazy initialization. The format of the config file can be found in the ../config folder for examples, or you can read our tutorial for some help."
   ]
  },
  {
   "cell_type": "code",
   "execution_count": null,
   "metadata": {},
   "outputs": [],
   "source": [
    "autoClassifier = AutoGraphClassifier.from_config(args.configs)"
   ]
  },
  {
   "cell_type": "markdown",
   "metadata": {},
   "source": [
    "## Train"
   ]
  },
  {
   "cell_type": "markdown",
   "metadata": {},
   "source": [
    "After the initialization is finished, you can use the interface provided by AutoGL to optimize the model through HPO."
   ]
  },
  {
   "cell_type": "code",
   "execution_count": null,
   "metadata": {},
   "outputs": [],
   "source": [
    "# train\n",
    "autoClassifier.fit(dataset, evaluation_method=[Acc], seed=args.seed)\n",
    "autoClassifier.get_leaderboard().show()\n",
    "\n",
    "print(\"best single model:\\n\", autoClassifier.get_leaderboard().get_best_model(0))"
   ]
  },
  {
   "cell_type": "markdown",
   "metadata": {},
   "source": [
    "## Evaluation"
   ]
  },
  {
   "cell_type": "markdown",
   "metadata": {},
   "source": [
    "After training, you can evaluate the model."
   ]
  },
  {
   "cell_type": "code",
   "execution_count": null,
   "metadata": {},
   "outputs": [],
   "source": [
    "# test\n",
    "acc = autoClassifier.evaluate(metric=\"acc\")\n",
    "print(\"test acc {:.4f}\".format(acc))"
   ]
  }
 ],
 "metadata": {
  "kernelspec": {
   "display_name": "Python 3",
   "language": "python",
   "name": "python3"
  },
  "language_info": {
   "codemirror_mode": {
    "name": "ipython",
    "version": 3
   },
   "file_extension": ".py",
   "mimetype": "text/x-python",
   "name": "python",
   "nbconvert_exporter": "python",
   "pygments_lexer": "ipython3",
   "version": "3.6.5"
  }
 },
 "nbformat": 4,
 "nbformat_minor": 4
}
